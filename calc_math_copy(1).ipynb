{
 "cells": [
  {
   "cell_type": "markdown",
   "metadata": {},
   "source": [
    "# Двумерная аппроксимация"
   ]
  },
  {
   "cell_type": "code",
   "execution_count": 4,
   "metadata": {},
   "outputs": [],
   "source": [
    "\n",
    "    def matrix_A(self, i, j):\n",
    "        res = 0 \n",
    "        x_p = i % (self.node_in_row)\n",
    "        y_p = i // (self.node_in_row)\n",
    "        elems = self.find_elem(x_p, y_p)\n",
    "        m1 = None\n",
    "        m2 = None\n",
    "        \n",
    "        for el in elems:\n",
    "            x_f, y_f = el[0] * self.poly_deg, el[1] * self.poly_deg\n",
    "            mask = ((self.x_c >= x_f) & (self.x_c <= x_f + self.poly_deg) &\n",
    "                      (self.y_c >= y_f) & (self.y_c <= y_f + self.poly_deg))\n",
    "            if(m1 is None):\n",
    "                m1 = mask\n",
    "            else:\n",
    "                m1 = m1 | mask\n",
    "        \n",
    "        x_p = j % (self.node_in_row)\n",
    "        y_p = j // (self.node_in_row)\n",
    "        elems = self.find_elem(x_p, y_p)\n",
    "        for el in elems:\n",
    "            x_f, y_f = el[0] * self.poly_deg, el[1] * self.poly_deg\n",
    "            mask = ((self.x_c >= x_f) & (self.x_c <= x_f + self.poly_deg) &\n",
    "                      (self.y_c >= y_f) & (self.y_c <= y_f + self.poly_deg))\n",
    "            if(m2 is None):\n",
    "                m2 = mask\n",
    "            else:\n",
    "                m2 = m2 | mask\n",
    "        \n",
    "        m = m1 & m2\n",
    "        for ind in m: \n",
    "            res = res + (self.phi(i,self.x[ind],self.y[ind]) *\n",
    "                         self.phi(j,self.x[ind],self.y[ind]))\n",
    "        return res"
   ]
  },
  {
   "cell_type": "code",
   "execution_count": 9,
   "metadata": {},
   "outputs": [
    {
     "name": "stdout",
     "output_type": "stream",
     "text": [
      "Collecting matplotlib\n",
      "  Downloading https://files.pythonhosted.org/packages/93/22/a3cef48d25ad94f540bb3dd91490fb22afe0911acc3390b1929527ad4e4f/matplotlib-3.1.3-cp37-cp37m-win_amd64.whl (9.1MB)\n",
      "Requirement already satisfied: numpy>=1.11 in c:\\users\\scrin\\anaconda3\\lib\\site-packages (from matplotlib) (1.18.1)\n",
      "Requirement already satisfied: python-dateutil>=2.1 in c:\\users\\scrin\\anaconda3\\lib\\site-packages (from matplotlib) (2.8.1)\n",
      "Collecting kiwisolver>=1.0.1\n",
      "  Downloading https://files.pythonhosted.org/packages/c6/ea/e5474014a13ab2dcb5056608e0716c600c3d8a8bcffb10ed55ccd6a42eb0/kiwisolver-1.1.0-cp37-none-win_amd64.whl (57kB)\n",
      "Collecting cycler>=0.10\n",
      "  Downloading https://files.pythonhosted.org/packages/f7/d2/e07d3ebb2bd7af696440ce7e754c59dd546ffe1bbe732c8ab68b9c834e61/cycler-0.10.0-py2.py3-none-any.whl\n",
      "Requirement already satisfied: pyparsing!=2.0.4,!=2.1.2,!=2.1.6,>=2.0.1 in c:\\users\\scrin\\anaconda3\\lib\\site-packages (from matplotlib) (2.4.6)\n",
      "Requirement already satisfied: six>=1.5 in c:\\users\\scrin\\anaconda3\\lib\\site-packages (from python-dateutil>=2.1->matplotlib) (1.13.0)\n",
      "Requirement already satisfied: setuptools in c:\\users\\scrin\\anaconda3\\lib\\site-packages (from kiwisolver>=1.0.1->matplotlib) (44.0.0.post20200106)\n",
      "Installing collected packages: kiwisolver, cycler, matplotlib\n",
      "Successfully installed cycler-0.10.0 kiwisolver-1.1.0 matplotlib-3.1.3\n"
     ]
    }
   ],
   "source": [
    "!pip install matplotlib"
   ]
  },
  {
   "cell_type": "code",
   "execution_count": 10,
   "metadata": {},
   "outputs": [],
   "source": [
    "import numpy as np\n",
    "import matplotlib.pyplot as plt\n",
    "import math \n",
    "import random\n",
    "import pylab\n",
    "import time\n",
    "from mpl_toolkits.mplot3d import Axes3D\n",
    "%matplotlib qt\n",
    "from matplotlib.colors import LinearSegmentedColormap\n",
    "from matplotlib import cm"
   ]
  },
  {
   "cell_type": "code",
   "execution_count": 11,
   "metadata": {},
   "outputs": [],
   "source": [
    "class approx_func:\n",
    "    \n",
    "    def __init__(self, f_point, s_point, poly_deg, element_num_row,\n",
    "                 element_num_col, derivetive_type = \"lagrange\", integral_type = \"kotice\"):\n",
    "        self.f_point = f_point\n",
    "        self.s_point = s_point\n",
    "        self.poly_deg = poly_deg\n",
    "        self.element_num_row = element_num_row\n",
    "        self.element_num_col = element_num_col\n",
    "        self.delta_row = (s_point[0]-f_point[0])/(poly_deg * element_num_row) # Расстояние между узлами в строке\n",
    "        self.delta_col = (s_point[1]-f_point[1])/(poly_deg * element_num_col)\n",
    "        self.x_nodes = np.linspace(f_point[0], s_point[0], (element_num_row + 1) * poly_deg - 1)\n",
    "        self.y_nodes = np.linspace(f_point[1], s_point[1], (element_num_col + 1) * poly_deg - 1) # Массив с координатами узлов\n",
    "        self.num_nodes = (element_num_row * poly_deg + 1) * (element_num_col * poly_deg + 1)\n",
    "        self.node_in_row = element_num_row * poly_deg + 1\n",
    "        self.node_in_col = self.num_nodes // self.node_in_row\n",
    "        self.x_grid, self.y_grid = np.meshgrid(self.x_nodes,self.y_nodes)\n",
    "        self.derivetive_type = derivetive_type\n",
    "        self.integral_type = integral_type\n",
    "    \n",
    "    def fit(self, x, y, z):\n",
    "\n",
    "        self.x, self.y, self.z = np.array(x), np.array(y), np.array(z)\n",
    "        self.x_c = (self.x - self.f_point[0]) / self.delta_row\n",
    "        self.y_c = (self.y - self.s_point[0]) / self.delta_col\n",
    "        \n",
    "        start_time = time.time()\n",
    "        A = np.array([self.matrix_A(i, j) if(i>=j) else 0 for i in range(self.num_nodes) \n",
    "                      for j in range(self.num_nodes)])\n",
    "        A = A.reshape(self.num_nodes,-1)\n",
    "        for i in range(self.num_nodes):\n",
    "            for j in range(i, self.num_nodes):\n",
    "                A[i,j] = A[j,i]\n",
    "        self.A = A\n",
    "        for i in range(len(A)):\n",
    "            flag = True\n",
    "            row = A[i]\n",
    "            for a in row:\n",
    "                if(a != 0):\n",
    "                    flag = False\n",
    "                    break\n",
    "            if(flag):\n",
    "                row[i] = 1\n",
    "        #print(\"Time A\", start_time - time.time())\n",
    "        start_time = time.time()\n",
    "        b = [self.vector_b(i) for i in range(self.num_nodes)]\n",
    "        #print(\"Time b\", start_time - time.time())\n",
    "        self.b = b\n",
    "        self.c = np.linalg.solve(A,b)\n",
    "        \n",
    "    def phi(self, i, x, y , dx = False, dy = False): # Функции в каждом узле\n",
    "        x_p = i % (self.node_in_row)\n",
    "        y_p = i // (self.node_in_row)\n",
    "        x_c = (x - self.f_point[0])/self.delta_row\n",
    "        y_c = (y - self.f_point[1])/self.delta_col\n",
    "        elems = self.find_elem(x_p, y_p)\n",
    "        el = self.check_elem(elems, x_c, y_c)\n",
    "\n",
    "        if(el is None):\n",
    "            return 0\n",
    "\n",
    "        x_f, y_f = int(el[0] * (self.poly_deg)), int(el[1] * (self.poly_deg))\n",
    "        res1,res2 = 0,0\n",
    "        a = self.x_nodes[x_f:x_f+self.poly_deg + 1]\n",
    "        b = self.y_nodes[y_f:y_f+self.poly_deg + 1]\n",
    "        L1,L2 = 1,1\n",
    "        for k in range(self.poly_deg + 1):\n",
    "            if(k!=x_p - x_f):\n",
    "                L1*=(x-a[k])/(a[x_p - x_f] - a[k])\n",
    "            if(k!=y_p - y_f):\n",
    "                L2*=(y-b[k])/(b[y_p - y_f] - b[k])\n",
    "\n",
    "        if(dx):\n",
    "            A = np.array([i for i in a if i != a[x_p - x_f]])\n",
    "            B = a[x_p - x_f] - A\n",
    "            return self.derivetive(x, A, B) * L2\n",
    "\n",
    "        if(dy):\n",
    "            A = np.array([i for i in b if i != b[y_p - y_f]])\n",
    "            B = b[y_p - y_f] - A\n",
    "            return self.derivetive(y, A, B) * L1\n",
    "\n",
    "\n",
    "        return (L1*L2)\n",
    "    \n",
    "    def find_elem(self, x_p, y_p):\n",
    "        if(x_p % self.poly_deg == 0 and x_p != 0 and x_p != self.node_in_row - 1 and\n",
    "           y_p % self.poly_deg == 0 and y_p != 0 and y_p != self.node_in_col - 1):\n",
    "            ind_x, ind_y = x_p / self.poly_deg - 1, y_p / self.poly_deg - 1\n",
    "            res = [(ind_x, ind_y), (ind_x + 1, ind_y), (ind_x, ind_y + 1), (ind_x + 1, ind_y + 1)]\n",
    "            return res\n",
    "\n",
    "        if(x_p % self.poly_deg == 0 and x_p != 0 and x_p != self.node_in_row - 1):\n",
    "            ind_x = x_p // self.poly_deg - 1\n",
    "            ind_y = (y_p - 1) // self.poly_deg if y_p // self.poly_deg != 0 else 0\n",
    "            res = [(ind_x, ind_y), (ind_x + 1, ind_y)]\n",
    "            return res\n",
    "\n",
    "        if(y_p % self.poly_deg == 0 and y_p != 0 and y_p != self.node_in_col - 1):\n",
    "            ind_y = y_p // self.poly_deg - 1\n",
    "            ind_x = (x_p - 1) // self.poly_deg if x_p // self.poly_deg != 0 else 0\n",
    "            res = [(ind_x, ind_y), (ind_x, ind_y + 1)]\n",
    "            return res\n",
    "\n",
    "        ind_x = (x_p - 1) // self.poly_deg if x_p // self.poly_deg != 0 else 0\n",
    "        ind_y = (y_p - 1) // self.poly_deg if y_p // self.poly_deg != 0 else 0\n",
    "        return [(ind_x, ind_y)]\n",
    "    \n",
    "    def check_elem(self, elems, x_c, y_c):\n",
    "        for el in elems:\n",
    "            x_f, y_f = el[0] * self.poly_deg, el[1] * self.poly_deg\n",
    "            if((x_c >= x_f and x_c <= x_f + self.poly_deg and y_c >= y_f and y_c <= y_f + self.poly_deg)):\n",
    "                return el\n",
    "        return \n",
    "    \n",
    "    def derivetive(self, x, a, b):\n",
    "    \n",
    "        if len(a) == 1:\n",
    "            return 1/b[0]\n",
    "        else:\n",
    "            L = 1\n",
    "            for i in range(1, len(a)):\n",
    "                L*= (x-a[i])/b[i]\n",
    "            return ((x-a[0]) / b[0] * self.derivetive(x, a[1:], b[1:]) +\n",
    "            1/b[0] * L)\n",
    "\n",
    "    def matrix_A(self, i, j):\n",
    "        res = 0\n",
    "        for ind in range(self.x.size):\n",
    "                res = res + self.phi(i,self.x[ind],self.y[ind]) * self.phi(j,self.x[ind],self.y[ind])\n",
    "\n",
    "        return res\n",
    "\n",
    "    def vector_b(self, i):\n",
    "        res = 0\n",
    "        for ind in range(self.x.size):\n",
    "                res = res + (self.z[ind] * self.phi(i,self.x[ind],self.y[ind]))\n",
    "        return res\n",
    "    \n",
    "    def app(self, x, y, dx = False, dy = False, delta = 0.01):\n",
    "        res = 0\n",
    "        if(self.derivetive_type == \"finite\" and (dx or dy)):\n",
    "            if dx:\n",
    "                if(x + delta > self.s_point[0]):\n",
    "                    return (self.app(x, y) - self.app(x - delta, y))/(delta)\n",
    "                else:\n",
    "                    #print((self.app(x + delta, y) - self.app(x, y))/(delta))\n",
    "                    return (self.app(x + delta, y) - self.app(x, y))/(delta)\n",
    "            else: \n",
    "                if(y + delta > self.s_point[1]):\n",
    "                    return (self.app(x, y) - self.app(x, y - delta))/(delta)\n",
    "                else:\n",
    "                    return (self.app(x, y + delta) - self.app(x, y))/(delta)\n",
    "        for i in range(self.num_nodes):\n",
    "            res += self.phi(i,x,y, dx, dy) * self.c[i]\n",
    "        return res\n",
    "    \n",
    "    def print(self, n=10, dx=False, dy=False):\n",
    "        \n",
    "        %matplotlib qt\n",
    "        fig = pylab.figure()\n",
    "        axes = Axes3D(fig)\n",
    "        x = np.linspace(f.f_point[0], f.s_point[0], int(f.s_point[0] - f.f_point[0]) * n)\n",
    "        y = np.linspace(f.f_point[1], f.s_point[1], int(f.s_point[1] - f.f_point[1]) * n)\n",
    "        x_print, y_print = np.meshgrid(x,y) \n",
    "        z_print = (np.array([self.app(x_p, y_p, dx, dy)\n",
    "                      for x_p in x for y_p in y])).reshape(len(x),-1)\n",
    "        axes.plot_surface(x_print, y_print, z_print, color=\"red\" )\n",
    "        pylab.show()\n",
    "    \n",
    "    def integral(self):\n",
    "        x = np.linspace(self.f_point[0], self.s_point[0], (self.s_point[0] - self.f_point[0])*3)\n",
    "        y = np.linspace(self.f_point[1], self.s_point[1], (self.s_point[1] - self.f_point[1])*3)\n",
    "        res = 0\n",
    "        for i in range(len(x) - 1):\n",
    "            for j in range(len(y) - 1):\n",
    "                del_x, del_y = x[i+1] - x[i], (y[j+1] - y[j])\n",
    "                #print(x[i], x[i+1], y[j], y[j+1], f.app(x[i] + del_x/2, y[j] + del_y/2))\n",
    "                res += del_x * del_y * f.app(x[i] + del_x/2, y[j] + del_y/2)\n",
    "        return res\n",
    "    \n",
    "    def print_nodes(self):\n",
    "        %matplotlib inline\n",
    "        plt.plot(self.x_grid, self.y_grid, 'ro')\n",
    "        plt.plot(x, y, 'ro', color = 'black', markersize = 3 )"
   ]
  },
  {
   "cell_type": "code",
   "execution_count": null,
   "metadata": {},
   "outputs": [],
   "source": []
  },
  {
   "cell_type": "code",
   "execution_count": 12,
   "metadata": {},
   "outputs": [],
   "source": [
    "def create_points(f, method='good', n=10, n_element=9):\n",
    "    x, y = np.array([]), np.array([])\n",
    "    if method == \"good\":\n",
    "        a = np.linspace(f.f_point[0], f.s_point[0], f.element_num_row + 1)\n",
    "        b = np.linspace(f.f_point[1], f.s_point[1], f.element_num_col + 1)\n",
    "        for i in range(a.size - 1):\n",
    "            for j in range(b.size - 1):\n",
    "                tmp = np.random.uniform(a[i], a[i+1], n_element)\n",
    "                x = np.hstack((x, tmp))\n",
    "                tmp = np.random.uniform(b[j], b[j+1], n_element)\n",
    "                y = np.hstack((y, tmp))\n",
    "        return x, y, func(x,y) \n",
    "\n",
    "    elif method == \"uniform\":\n",
    "        x = np.random.uniform(f.f_point[0], f.s_point[0], n)\n",
    "        y = np.random.uniform(f.f_point[1], f.s_point[1], n)\n",
    "        return x, y, func(x,y)\n",
    "        \n",
    "    elif method == \"bad\":\n",
    "        x = np.random.uniform(f.f_point[0], (f.s_point[0] + f.f_point[0])/2, n)\n",
    "        y = np.random.uniform(f.f_point[0], (f.s_point[0] + f.f_point[0])/2, n)\n",
    "        return x, y, func(x,y)\n",
    "    "
   ]
  },
  {
   "cell_type": "code",
   "execution_count": 13,
   "metadata": {},
   "outputs": [],
   "source": [
    "def loss(f,metric=\"l2\", n=3, relative=True, dx=False, dy=False):\n",
    "    if(metric == \"l2\"):\n",
    "        a = np.linspace(f.f_point[0], f.s_point[0], int(f.s_point[0] - f.f_point[0]) * n)\n",
    "        b = np.linspace(f.f_point[1], f.s_point[1], int(f.s_point[1] - f.f_point[1]) * n)\n",
    "        res = 0\n",
    "        for i in range(a.size):\n",
    "            for j in range(b.size):\n",
    "                res += (func(a[i],b[j], dx, dy) - f.app(a[i], b[j], dx, dy))**2\n",
    "        res = np.sqrt(res)\n",
    "        if(relative):\n",
    "            norm = np.sum((func(a,b, dx, dy))**2)\n",
    "            return res/np.sqrt(norm)\n",
    "        else:\n",
    "            return res\n",
    "    if(metric == \"l1\"):\n",
    "        a = np.linspace(f.f_point[0], f.s_point[0], int(f.s_point[0] - f.f_point[0]) * n)\n",
    "        b = np.linspace(f.f_point[1], f.s_point[1], int(f.s_point[1] - f.f_point[1]) * n)\n",
    "        res = 0\n",
    "        for i in range(a.size):\n",
    "            for j in range(b.size):\n",
    "                res += abs(func(a[i],b[j], dx, dy) - f.app(a[i], b[j], dx, dy))\n",
    "        if(relative):\n",
    "            norm = np.sum(abs(func(a,b, dx, dy)))\n",
    "            return res/norm\n",
    "        else:\n",
    "            return res\n",
    "    if(metric == \"chebyshev\"):\n",
    "        a = np.linspace(f.f_point[0], f.s_point[0], int(f.s_point[0] - f.f_point[0]) * n)\n",
    "        b = np.linspace(f.f_point[1], f.s_point[1], int(f.s_point[1] - f.f_point[1]) * n)\n",
    "        m = abs(func(a[0],b[0], dx, dy) - f.app(a[0], b[0], dx, dy))\n",
    "        for i in range(a.size):\n",
    "            for j in range(b.size):\n",
    "                tmp = abs(func(a[i],b[j], dx, dy) - f.app(a[i], b[j], dx, dy))\n",
    "                if(m < tmp):\n",
    "                    m = tmp\n",
    "        if(relative):\n",
    "            a, b = np.meshgrid(a,b)\n",
    "            return m/np.max(func(a,b))\n",
    "        else:\n",
    "            return m"
   ]
  },
  {
   "cell_type": "code",
   "execution_count": 14,
   "metadata": {},
   "outputs": [],
   "source": [
    "def print_loss(f):\n",
    "    print(\"function metric l1: \\n\", loss(f, metric=\"l1\"))\n",
    "    print(\"function metric l2: \\n\", loss(f, metric=\"l2\"))\n",
    "    print(\"function metric chebyshev: \\n\",loss(f, metric=\"chebyshev\"))\n",
    "    print(\"dervetive dx metric l1: \\n\", loss(f, metric=\"l1\", dx=True))\n",
    "    print(\"dervetive dx metric l2: \\n\", loss(f, metric=\"l2\", dx=True))\n",
    "    print(\"dervetive dx metric chebyshev: \\n\", loss(f, metric=\"chebyshev\", dx=True))\n",
    "    print(\"dervetive dy metric l1: \\n\", loss(f, metric=\"l1\", dy=True))\n",
    "    print(\"dervetive dy metric l2: \\n\", loss(f, metric=\"l2\", dy=True))\n",
    "    print(\"dervetive dy metric chebyshev\", loss(f, metric=\"chebyshev\", dy=True))"
   ]
  },
  {
   "cell_type": "code",
   "execution_count": 15,
   "metadata": {},
   "outputs": [],
   "source": [
    "def func(x, y, dx = False, dy = False):\n",
    "    if(dx):\n",
    "        return 1\n",
    "    if(dy):\n",
    "        return 1\n",
    "    \n",
    "    return  x**3 + y**3"
   ]
  },
  {
   "cell_type": "code",
   "execution_count": 16,
   "metadata": {},
   "outputs": [],
   "source": [
    "f = approx_func(f_point=(-1, -1), s_point=(1, 1), poly_deg=3,\n",
    "                element_num_row=2, element_num_col=2, derivetive_type=\"finite\")"
   ]
  },
  {
   "cell_type": "code",
   "execution_count": 17,
   "metadata": {},
   "outputs": [
    {
     "name": "stdout",
     "output_type": "stream",
     "text": [
      "function metric l1: \n",
      " 4.383365606760512e-12\n",
      "function metric l2: \n",
      " 2.3231555545269566e-12\n",
      "function metric chebyshev: \n",
      " 1.6937562463681388e-12\n",
      "dervetive dx metric l1: \n",
      " 35.16120000001194\n",
      "dervetive dx metric l2: \n",
      " 7.479808042998304\n",
      "dervetive dx metric chebyshev: \n",
      " 0.985050000015566\n",
      "dervetive dy metric l1: \n",
      " 35.161199999942866\n",
      "dervetive dy metric l2: \n",
      " 7.4798080429760825\n",
      "dervetive dy metric chebyshev 0.9850500000038069\n"
     ]
    },
    {
     "data": {
      "image/png": "[encoded data removed]",
      "text/plain": [
       "<Figure size 432x288 with 1 Axes>"
      ]
     },
     "metadata": {
      "needs_background": "light"
     },
     "output_type": "display_data"
    }
   ],
   "source": [
    "x, y, z = create_points(f, method='good', n_element=16)\n",
    "f.fit(x, y, z)\n",
    "f.print_nodes()\n",
    "print_loss(f)\n"
   ]
  },
  {
   "cell_type": "code",
   "execution_count": 18,
   "metadata": {},
   "outputs": [],
   "source": [
    "%matplotlib qt\n",
    "f.print(dy=True)"
   ]
  },
  {
   "cell_type": "code",
   "execution_count": null,
   "metadata": {},
   "outputs": [],
   "source": [
    "f.integral()"
   ]
  },
  {
   "cell_type": "markdown",
   "metadata": {},
   "source": [
    "# Решение СЛАУ"
   ]
  },
  {
   "cell_type": "code",
   "execution_count": 20,
   "metadata": {},
   "outputs": [],
   "source": [
    "import numpy as np\n",
    "import matplotlib.pyplot as plt\n",
    "import math \n",
    "import random"
   ]
  },
  {
   "cell_type": "code",
   "execution_count": 78,
   "metadata": {},
   "outputs": [],
   "source": [
    "A = np.random.randint(0,20,(5,5))\n",
    "b = np.random.randint(0,20,5)"
   ]
  },
  {
   "cell_type": "code",
   "execution_count": 84,
   "metadata": {},
   "outputs": [
    {
     "data": {
      "text/plain": [
       "array([[19,  5, 13,  3,  8],\n",
       "       [15, 12, 19,  6,  7],\n",
       "       [10,  9, 19,  6, 15],\n",
       "       [ 3, 12,  4,  6,  5],\n",
       "       [ 8, 15,  5,  4,  1]])"
      ]
     },
     "execution_count": 84,
     "metadata": {},
     "output_type": "execute_result"
    }
   ],
   "source": [
    "A"
   ]
  },
  {
   "cell_type": "code",
   "execution_count": 81,
   "metadata": {},
   "outputs": [],
   "source": [
    "L = np.zeros(A.shape)\n",
    "U = np.zeros(A.shape)\n",
    "\n",
    "U[0] = A[0]\n",
    "L[:,0] = A[:,0]/U[0,0]\n",
    "\n",
    "for i in range(1,A.shape[0]):\n",
    "    for j in range(i, A.shape[0]):\n",
    "        U[i,j] = A[i,j] - np.sum(L[i,:i] * U[:i,j])\n",
    "        L[j,i] = (A[j,i] - np.sum(L[j,:i] * U[:i,i]))/U[i,i]"
   ]
  },
  {
   "cell_type": "code",
   "execution_count": 86,
   "metadata": {},
   "outputs": [],
   "source": [
    "x1 = np.zeros(A.shape[0])\n",
    "for i in range(A.shape[0]):\n",
    "    x1[i] = (b[i] - np.sum(A[i,:i] * x1[:i]))"
   ]
  },
  {
   "cell_type": "code",
   "execution_count": 90,
   "metadata": {},
   "outputs": [
    {
     "data": {
      "text/plain": [
       "array([    7.        ,   -84.47368421,   684.50773994, -3527.91986321,\n",
       "        2430.77332825])"
      ]
     },
     "execution_count": 90,
     "metadata": {},
     "output_type": "execute_result"
    }
   ],
   "source": [
    "L@x1"
   ]
  },
  {
   "cell_type": "code",
   "execution_count": 88,
   "metadata": {},
   "outputs": [
    {
     "data": {
      "text/plain": [
       "array([ 7, 15, 12,  9, 13])"
      ]
     },
     "execution_count": 88,
     "metadata": {},
     "output_type": "execute_result"
    }
   ],
   "source": [
    "b"
   ]
  }
 ],
 "metadata": {
  "kernelspec": {
   "display_name": "Python 3",
   "language": "python",
   "name": "python3"
  }
 },
 "nbformat": 4,
 "nbformat_minor": 2
}
