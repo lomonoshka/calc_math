{
 "cells": [
  {
   "cell_type": "code",
   "execution_count": 1,
   "metadata": {},
   "outputs": [],
   "source": [
    "import numpy as np\n",
    "import matplotlib.pyplot as plt\n",
    "from functools import reduce\n",
    "from numpy import ma\n",
    "from matplotlib import ticker, cm\n",
    "import time\n",
    "\n",
    "def FEM(Nx, Ny, E1, nu1, E2, nu2, py, xl, xr):\n",
    "    f = 0,0\n",
    "    s = 1,1\n",
    "    h = s[0]/10\n",
    "    x_nodes = [i%Nx/(Nx-1)*(s[0] - f[0]) for i in range(Nx*Ny)]\n",
    "    y_nodes = [i//Ny/(Ny-1)*(s[0] - f[0]) for i in range(Nx*Ny)]\n",
    "    elements = []\n",
    "    for j in range(Ny-1):\n",
    "        for i in range(Nx-1):\n",
    "            elements.append(i+j*Nx)\n",
    "            elements.append(i+j*Nx+1)\n",
    "            elements.append(i+Nx+j*Ny)\n",
    "        for i in range(Nx-1):\n",
    "            elements.append(i+j*Nx+1)\n",
    "            elements.append(i+1+Nx+j*Nx)\n",
    "            elements.append(i+Nx+j*Nx)\n",
    "\n",
    "    elements = np.asarray(elements)\n",
    "    elements = elements.reshape(-1,3)\n",
    "    S = (s[0] - f[0]) / (Nx - 1) * (s[1] - f[1]) / (Ny - 1) * 0.5\n",
    "\n",
    "    D = E1/(1-nu1**2)*np.asarray([[1, nu1, 0], \n",
    "                    [nu1, 1, 0], \n",
    "                    [0, 0, (1-nu1)/2]])\n",
    "\n",
    "    D1 = E2/(1-nu2**2)*np.asarray([[1, nu2, 0], \n",
    "                    [nu2, 1, 0], \n",
    "                    [0, 0, (1-nu2)/2]])\n",
    "\n",
    "    B_arr = []\n",
    "\n",
    "    K = np.zeros((Nx*Ny*2, Nx*Ny*2))\n",
    "    for inc, el in enumerate(elements):\n",
    "        b = [y_nodes[el[(1+i)%3]] - y_nodes[el[(2+i)%3]] for i in range(3)]\n",
    "        c = [x_nodes[el[(2+i)%3]] - x_nodes[el[(1+i)%3]] for i in range(3)]\n",
    "        B = np.asarray([[b[0], 0, b[1], 0 ,b[2], 0],\n",
    "             [0, c[0], 0, c[1], 0, c[2]],\n",
    "             [c[0], b[0], c[1], b[1], c[2], b[2]]])/(2*S)\n",
    "        B_arr.append(B)\n",
    "\n",
    "        if(inc<len(elements)//2):\n",
    "            k = B.T@D1@B*S*h\n",
    "        else:\n",
    "            k = B.T@D@B*S*h\n",
    "        lv = np.asarray([1,0,1,0,1,0])\n",
    "        rv = np.asarray([0,1,0,1,0,1]).T\n",
    "        for i in range(3):\n",
    "            for j in range(3):\n",
    "                K[el[i]*2:el[i]*2+2,el[j]*2:el[j]*2+2] += k[i*2:i*2+2, j*2:j*2+2]\n",
    "\n",
    "    def grad_solve(A, b, x0, mask):\n",
    "        x = x0\n",
    "        r = b - A@x\n",
    "        r[mask] = 0\n",
    "        p = r\n",
    "        r_norm = np.sum(r*r)\n",
    "        b_norm = np.sum(b*b)\n",
    "        inc = 0\n",
    "        while (not(r_norm < np.sum(b*b)*1e-9) or k<20):\n",
    "            if(r_norm < b_norm*1e-9):\n",
    "                k+=1\n",
    "            else:\n",
    "                k=0\n",
    "            r_norm = np.sum(r*r)\n",
    "            Ap = (A@p)\n",
    "            Ap[mask] = 0\n",
    "            a = r_norm/np.sum(Ap*p)\n",
    "            x_n = x + a*p\n",
    "            r_n = r - a*(Ap)\n",
    "            x_n[mask] = 0\n",
    "            r_n[mask] = 0\n",
    "            bt = np.sum(r_n*r_n)/r_norm\n",
    "            p_n = r_n + bt*p\n",
    "            p_n[mask] = 0\n",
    "            x, r, p = x_n, r_n, p_n\n",
    "            b_norm = np.sum(b*b)\n",
    "        return x\n",
    "\n",
    "    f = np.zeros(Nx*Ny*2)\n",
    "    f_node = Nx*Ny - Nx + xl\n",
    "    l_node = Nx*Ny - 1 - xr\n",
    "    nodes_f = []\n",
    "    for i in range(f_node, l_node):\n",
    "        nodes_f.append((i, i+1)) \n",
    "    for n in nodes_f:\n",
    "        f[n[0]*2+1]+=1/2*py/(len(nodes_f))*h\n",
    "        f[n[1]*2+1]+=1/2*py/(len(nodes_f))*h\n",
    "    x0 = np.random.sample(Nx*Ny*2) + 1e-6\n",
    "    for i in range(len(x0)):\n",
    "        if(i<(Nx*2) or i%(Nx*2)==(Nx*2)-2 or i%(Nx*2)==0):\n",
    "            x0[i] = 0\n",
    "    mask = np.where(x0==0)\n",
    "\n",
    "    u = grad_solve(K, f, x0, mask)\n",
    "    uy = np.zeros(Nx*Ny)\n",
    "    ux = np.zeros(Nx*Ny)\n",
    "\n",
    "    for i in range(Nx*Ny*2):\n",
    "        if(i%2):\n",
    "            uy[(i-1)//2] = u[i]\n",
    "        else:\n",
    "            ux[i//2] = u[i]\n",
    "\n",
    "    ex = []\n",
    "    ey = []\n",
    "    exy = []\n",
    "    sigx = []\n",
    "    sigy = []\n",
    "    sigxy = []\n",
    "    pointsx = []\n",
    "    pointsy = []\n",
    "    for i, el in enumerate(elements):\n",
    "        mask = []\n",
    "        for n in el:\n",
    "            mask.append(2*n) \n",
    "            mask.append(2*n+1)\n",
    "        e = B_arr[i]@u[mask]\n",
    "        if(i<len(elements)//2):\n",
    "            sig = D1@e.T\n",
    "        else:\n",
    "            sig = D@e.T\n",
    "        sigx.append(sig[0])\n",
    "        sigy.append(sig[1])\n",
    "        sigxy.append(sig[2])\n",
    "        ex.append(e[0])\n",
    "        ey.append(e[1])\n",
    "        exy.append(e[2])\n",
    "        pointx = 0\n",
    "        pointy = 0\n",
    "        if(y_nodes[el[0]] == y_nodes[el[1]]):\n",
    "            pointx = x_nodes[el[0]] + (x_nodes[el[1]] - x_nodes[el[0]])/2\n",
    "            pointy = y_nodes[el[0]] + (y_nodes[el[2]] - y_nodes[el[0]])/4 \n",
    "        else:\n",
    "            pointx = x_nodes[el[0]] + (x_nodes[el[1]] - x_nodes[el[0]])/2\n",
    "            pointy = y_nodes[el[0]] + (y_nodes[el[2]] - y_nodes[el[0]])*3/4\n",
    "        pointsx.append(pointx)\n",
    "        pointsy.append(pointy)\n",
    "    ex = np.asarray(ex)\n",
    "    ey = np.asarray(ey)\n",
    "    exy = np.asarray(exy)\n",
    "    sigx = np.asarray(sigx)\n",
    "    sigy = np.asarray(sigy)\n",
    "    sigxy = np.asarray(sigxy)\n",
    "    pointsx = np.asarray(pointsx)\n",
    "    pointsy = np.asarray(pointsy)\n",
    "    ux = ux.reshape((Nx,Ny))\n",
    "    uy = uy.reshape((Nx,Ny))\n",
    "    ex = ex.reshape((Ny-1)*2,(Nx-1))\n",
    "    ey = ey.reshape(((Ny-1))*2, (Nx-1))\n",
    "    exy = exy.reshape(((Ny-1)*2, (Nx-1)))\n",
    "    sigx = sigx.reshape((Ny-1)*2,(Nx-1))\n",
    "    sigy = sigy.reshape(((Ny-1))*2, (Nx-1))\n",
    "    sigxy = sigxy.reshape(((Ny-1)*2, (Nx-1)))\n",
    "    pointsx = pointsx.reshape(((Ny-1)*2, (Nx-1)))\n",
    "    pointsy = pointsy.reshape(((Ny-1)*2, (Nx-1)))\n",
    "    return (f, u, ux, uy, ex, ey, exy, sigx, sigy, sigxy, pointsx, pointsy)"
   ]
  },
  {
   "cell_type": "code",
   "execution_count": 56,
   "metadata": {},
   "outputs": [],
   "source": [
    "Nx, Ny = 101, 101\n",
    "solution = []\n",
    "E1 = 2*1e5\n",
    "nu1 = 0.3\n",
    "py = -150\n",
    "xl = 0\n",
    "xr = 0\n",
    "solution.append((None, FEM(Nx, Ny, E1, nu1, E1, nu1, py, xl, xr)))\n"
   ]
  },
  {
   "cell_type": "code",
   "execution_count": 87,
   "metadata": {},
   "outputs": [],
   "source": [
    "Nx, Ny = 101, 101\n",
    "solution = []\n",
    "E1 = 3*1e3\n",
    "nu1 = 0.44\n",
    "E2 = 11*10e4\n",
    "nu2 = 0.35\n",
    "py = -10\n",
    "xl = 30\n",
    "xr = 30\n",
    "solution.append((FEM(Nx, Ny, E1, nu1, E2, nu2, py, xl, xr),\n",
    "                                            FEM(Nx, Ny, E1, nu1, E1, nu1, py, xl, xr)))\n"
   ]
  },
  {
   "cell_type": "code",
   "execution_count": 32,
   "metadata": {},
   "outputs": [
    {
     "ename": "TypeError",
     "evalue": "'NoneType' object is not subscriptable",
     "output_type": "error",
     "traceback": [
      "\u001b[1;31m---------------------------------------------------------------------------\u001b[0m",
      "\u001b[1;31mTypeError\u001b[0m                                 Traceback (most recent call last)",
      "\u001b[1;32m<ipython-input-32-398ac5c09071>\u001b[0m in \u001b[0;36m<module>\u001b[1;34m\u001b[0m\n\u001b[1;32m----> 1\u001b[1;33m \u001b[0mpointsx\u001b[0m \u001b[1;33m=\u001b[0m \u001b[0msolution\u001b[0m\u001b[1;33m[\u001b[0m\u001b[1;36m0\u001b[0m\u001b[1;33m]\u001b[0m\u001b[1;33m[\u001b[0m\u001b[1;36m0\u001b[0m\u001b[1;33m]\u001b[0m\u001b[1;33m[\u001b[0m\u001b[1;33m-\u001b[0m\u001b[1;36m2\u001b[0m\u001b[1;33m]\u001b[0m\u001b[1;33m\u001b[0m\u001b[1;33m\u001b[0m\u001b[0m\n\u001b[0m\u001b[0;32m      2\u001b[0m \u001b[0mpointsy\u001b[0m \u001b[1;33m=\u001b[0m \u001b[0msolution\u001b[0m\u001b[1;33m[\u001b[0m\u001b[1;36m0\u001b[0m\u001b[1;33m]\u001b[0m\u001b[1;33m[\u001b[0m\u001b[1;36m0\u001b[0m\u001b[1;33m]\u001b[0m\u001b[1;33m[\u001b[0m\u001b[1;33m-\u001b[0m\u001b[1;36m1\u001b[0m\u001b[1;33m]\u001b[0m\u001b[1;33m\u001b[0m\u001b[1;33m\u001b[0m\u001b[0m\n\u001b[0;32m      3\u001b[0m \u001b[0mfig\u001b[0m\u001b[1;33m,\u001b[0m \u001b[0max\u001b[0m \u001b[1;33m=\u001b[0m \u001b[0mplt\u001b[0m\u001b[1;33m.\u001b[0m\u001b[0msubplots\u001b[0m\u001b[1;33m(\u001b[0m\u001b[1;33m)\u001b[0m\u001b[1;33m\u001b[0m\u001b[1;33m\u001b[0m\u001b[0m\n\u001b[0;32m      4\u001b[0m \u001b[0mcs\u001b[0m \u001b[1;33m=\u001b[0m \u001b[0max\u001b[0m\u001b[1;33m.\u001b[0m\u001b[0mcontourf\u001b[0m\u001b[1;33m(\u001b[0m\u001b[0mpointsx\u001b[0m\u001b[1;33m,\u001b[0m \u001b[0mpointsy\u001b[0m\u001b[1;33m,\u001b[0m \u001b[0msolution\u001b[0m\u001b[1;33m[\u001b[0m\u001b[1;36m0\u001b[0m\u001b[1;33m]\u001b[0m\u001b[1;33m[\u001b[0m\u001b[1;36m1\u001b[0m\u001b[1;33m]\u001b[0m\u001b[1;33m[\u001b[0m\u001b[1;36m5\u001b[0m\u001b[1;33m]\u001b[0m\u001b[1;33m,\u001b[0m \u001b[0mcmap\u001b[0m\u001b[1;33m=\u001b[0m\u001b[0mcm\u001b[0m\u001b[1;33m.\u001b[0m\u001b[0mpink\u001b[0m\u001b[1;33m,\u001b[0m\u001b[1;33m)\u001b[0m\u001b[1;33m\u001b[0m\u001b[1;33m\u001b[0m\u001b[0m\n\u001b[0;32m      5\u001b[0m \u001b[1;33m\u001b[0m\u001b[0m\n",
      "\u001b[1;31mTypeError\u001b[0m: 'NoneType' object is not subscriptable"
     ]
    }
   ],
   "source": [
    "\n",
    "pointsx = solution[0][0][-2]\n",
    "pointsy = solution[0][0][-1]\n",
    "fig, ax = plt.subplots()\n",
    "cs = ax.contourf(pointsx, pointsy, solution[0][0][5], cmap=cm.pink,)\n",
    "\n",
    "cbar = fig.colorbar(cs)\n",
    "fig.set_figwidth(10)    #  ширина и\n",
    "fig.set_figheight(8)    #  высота \"Figure\"\n",
    "plt.show()\n",
    "print('E1:', E1)\n",
    "print('nu1:', nu1)\n",
    "print('E2:', E2)\n",
    "print('nu2:', nu2)\n",
    "print('py:', py)\n",
    "print('xl:', xl)\n",
    "print('xr:', xr)"
   ]
  },
  {
   "cell_type": "code",
   "execution_count": 100,
   "metadata": {},
   "outputs": [
    {
     "data": {
      "image/png": "[encoded data removed]",
      "text/plain": [
       "<Figure size 720x576 with 2 Axes>"
      ]
     },
     "metadata": {
      "needs_background": "light"
     },
     "output_type": "display_data"
    }
   ],
   "source": [
    "pointsx = solution[0][1][-2]\n",
    "pointsy = solution[0][1][-1]\n",
    "fig, ax = plt.subplots()\n",
    "cs = ax.contourf(pointsx, pointsy, solution[0][0][9], cmap=cm.pink,)\n",
    "\n",
    "cbar = fig.colorbar(cs)\n",
    "fig.set_figwidth(10)    #  ширина и\n",
    "fig.set_figheight(8)    #  высота \"Figure\"\n",
    "plt.show()\n"
   ]
  },
  {
   "cell_type": "code",
   "execution_count": 101,
   "metadata": {},
   "outputs": [
    {
     "data": {
      "image/png": "[encoded data removed]",
      "text/plain": [
       "<Figure size 720x576 with 2 Axes>"
      ]
     },
     "metadata": {
      "needs_background": "light"
     },
     "output_type": "display_data"
    }
   ],
   "source": [
    "pointsx = solution[0][0][-2]\n",
    "pointsy = solution[0][0][-1]\n",
    "fig, ax = plt.subplots()\n",
    "cs = ax.contourf(pointsx, pointsy, solution[0][1][9], cmap=cm.pink,)\n",
    "\n",
    "cbar = fig.colorbar(cs)\n",
    "fig.set_figwidth(10)    #  ширина и\n",
    "fig.set_figheight(8)    #  высота \"Figure\"\n",
    "plt.show()\n"
   ]
  },
  {
   "cell_type": "code",
   "execution_count": 96,
   "metadata": {
    "scrolled": true
   },
   "outputs": [
    {
     "data": {
      "image/png": "[encoded data removed]",
      "text/plain": [
       "<Figure size 720x576 with 2 Axes>"
      ]
     },
     "metadata": {
      "needs_background": "light"
     },
     "output_type": "display_data"
    }
   ],
   "source": [
    "pointsx = solution[0][0][-2]\n",
    "pointsy = solution[0][0][-1]\n",
    "fig, ax = plt.subplots()\n",
    "cs = ax.contourf(pointsx, pointsy, solution[0][1][8], cmap=cm.pink,)\n",
    "\n",
    "cbar = fig.colorbar(cs)\n",
    "fig.set_figwidth(10)    #  ширина и\n",
    "fig.set_figheight(8)    #  высота \"Figure\"\n",
    "plt.show()\n"
   ]
  },
  {
   "cell_type": "code",
   "execution_count": 95,
   "metadata": {},
   "outputs": [
    {
     "ename": "TypeError",
     "evalue": "Shape of x does not match that of z: found (101, 101) instead of (200, 100).",
     "output_type": "error",
     "traceback": [
      "\u001b[1;31m---------------------------------------------------------------------------\u001b[0m",
      "\u001b[1;31mTypeError\u001b[0m                                 Traceback (most recent call last)",
      "\u001b[1;32m<ipython-input-95-26435d3a0a11>\u001b[0m in \u001b[0;36m<module>\u001b[1;34m\u001b[0m\n\u001b[0;32m      3\u001b[0m \u001b[0my_nodes\u001b[0m \u001b[1;33m=\u001b[0m \u001b[0mnp\u001b[0m\u001b[1;33m.\u001b[0m\u001b[0mlinspace\u001b[0m\u001b[1;33m(\u001b[0m\u001b[1;36m0\u001b[0m\u001b[1;33m,\u001b[0m \u001b[1;36m1\u001b[0m\u001b[1;33m,\u001b[0m \u001b[0mNy\u001b[0m\u001b[1;33m)\u001b[0m\u001b[1;33m\u001b[0m\u001b[1;33m\u001b[0m\u001b[0m\n\u001b[0;32m      4\u001b[0m \u001b[0mx_grid\u001b[0m\u001b[1;33m,\u001b[0m \u001b[0my_grid\u001b[0m \u001b[1;33m=\u001b[0m \u001b[0mnp\u001b[0m\u001b[1;33m.\u001b[0m\u001b[0mmeshgrid\u001b[0m\u001b[1;33m(\u001b[0m\u001b[0mx_nodes\u001b[0m\u001b[1;33m,\u001b[0m \u001b[0my_nodes\u001b[0m\u001b[1;33m)\u001b[0m\u001b[1;33m\u001b[0m\u001b[1;33m\u001b[0m\u001b[0m\n\u001b[1;32m----> 5\u001b[1;33m \u001b[0mcs\u001b[0m \u001b[1;33m=\u001b[0m \u001b[0max\u001b[0m\u001b[1;33m.\u001b[0m\u001b[0mcontourf\u001b[0m\u001b[1;33m(\u001b[0m\u001b[0mx_grid\u001b[0m\u001b[1;33m,\u001b[0m \u001b[0my_grid\u001b[0m\u001b[1;33m,\u001b[0m \u001b[0msolution\u001b[0m\u001b[1;33m[\u001b[0m\u001b[1;36m0\u001b[0m\u001b[1;33m]\u001b[0m\u001b[1;33m[\u001b[0m\u001b[1;36m0\u001b[0m\u001b[1;33m]\u001b[0m\u001b[1;33m[\u001b[0m\u001b[1;36m8\u001b[0m\u001b[1;33m]\u001b[0m\u001b[1;33m,\u001b[0m \u001b[0mcmap\u001b[0m\u001b[1;33m=\u001b[0m\u001b[0mcm\u001b[0m\u001b[1;33m.\u001b[0m\u001b[0mpink\u001b[0m\u001b[1;33m)\u001b[0m\u001b[1;33m\u001b[0m\u001b[1;33m\u001b[0m\u001b[0m\n\u001b[0m\u001b[0;32m      6\u001b[0m \u001b[0mcbar\u001b[0m \u001b[1;33m=\u001b[0m \u001b[0mfig\u001b[0m\u001b[1;33m.\u001b[0m\u001b[0mcolorbar\u001b[0m\u001b[1;33m(\u001b[0m\u001b[0mcs\u001b[0m\u001b[1;33m)\u001b[0m\u001b[1;33m\u001b[0m\u001b[1;33m\u001b[0m\u001b[0m\n\u001b[0;32m      7\u001b[0m \u001b[0mfig\u001b[0m\u001b[1;33m.\u001b[0m\u001b[0mset_figwidth\u001b[0m\u001b[1;33m(\u001b[0m\u001b[1;36m10\u001b[0m\u001b[1;33m)\u001b[0m    \u001b[1;31m#  ширина и\u001b[0m\u001b[1;33m\u001b[0m\u001b[1;33m\u001b[0m\u001b[0m\n",
      "\u001b[1;32m~\\Anaconda3\\lib\\site-packages\\matplotlib\\__init__.py\u001b[0m in \u001b[0;36minner\u001b[1;34m(ax, data, *args, **kwargs)\u001b[0m\n\u001b[0;32m   1597\u001b[0m     \u001b[1;32mdef\u001b[0m \u001b[0minner\u001b[0m\u001b[1;33m(\u001b[0m\u001b[0max\u001b[0m\u001b[1;33m,\u001b[0m \u001b[1;33m*\u001b[0m\u001b[0margs\u001b[0m\u001b[1;33m,\u001b[0m \u001b[0mdata\u001b[0m\u001b[1;33m=\u001b[0m\u001b[1;32mNone\u001b[0m\u001b[1;33m,\u001b[0m \u001b[1;33m**\u001b[0m\u001b[0mkwargs\u001b[0m\u001b[1;33m)\u001b[0m\u001b[1;33m:\u001b[0m\u001b[1;33m\u001b[0m\u001b[1;33m\u001b[0m\u001b[0m\n\u001b[0;32m   1598\u001b[0m         \u001b[1;32mif\u001b[0m \u001b[0mdata\u001b[0m \u001b[1;32mis\u001b[0m \u001b[1;32mNone\u001b[0m\u001b[1;33m:\u001b[0m\u001b[1;33m\u001b[0m\u001b[1;33m\u001b[0m\u001b[0m\n\u001b[1;32m-> 1599\u001b[1;33m             \u001b[1;32mreturn\u001b[0m \u001b[0mfunc\u001b[0m\u001b[1;33m(\u001b[0m\u001b[0max\u001b[0m\u001b[1;33m,\u001b[0m \u001b[1;33m*\u001b[0m\u001b[0mmap\u001b[0m\u001b[1;33m(\u001b[0m\u001b[0msanitize_sequence\u001b[0m\u001b[1;33m,\u001b[0m \u001b[0margs\u001b[0m\u001b[1;33m)\u001b[0m\u001b[1;33m,\u001b[0m \u001b[1;33m**\u001b[0m\u001b[0mkwargs\u001b[0m\u001b[1;33m)\u001b[0m\u001b[1;33m\u001b[0m\u001b[1;33m\u001b[0m\u001b[0m\n\u001b[0m\u001b[0;32m   1600\u001b[0m \u001b[1;33m\u001b[0m\u001b[0m\n\u001b[0;32m   1601\u001b[0m         \u001b[0mbound\u001b[0m \u001b[1;33m=\u001b[0m \u001b[0mnew_sig\u001b[0m\u001b[1;33m.\u001b[0m\u001b[0mbind\u001b[0m\u001b[1;33m(\u001b[0m\u001b[0max\u001b[0m\u001b[1;33m,\u001b[0m \u001b[1;33m*\u001b[0m\u001b[0margs\u001b[0m\u001b[1;33m,\u001b[0m \u001b[1;33m**\u001b[0m\u001b[0mkwargs\u001b[0m\u001b[1;33m)\u001b[0m\u001b[1;33m\u001b[0m\u001b[1;33m\u001b[0m\u001b[0m\n",
      "\u001b[1;32m~\\Anaconda3\\lib\\site-packages\\matplotlib\\axes\\_axes.py\u001b[0m in \u001b[0;36mcontourf\u001b[1;34m(self, *args, **kwargs)\u001b[0m\n\u001b[0;32m   6428\u001b[0m     \u001b[1;32mdef\u001b[0m \u001b[0mcontourf\u001b[0m\u001b[1;33m(\u001b[0m\u001b[0mself\u001b[0m\u001b[1;33m,\u001b[0m \u001b[1;33m*\u001b[0m\u001b[0margs\u001b[0m\u001b[1;33m,\u001b[0m \u001b[1;33m**\u001b[0m\u001b[0mkwargs\u001b[0m\u001b[1;33m)\u001b[0m\u001b[1;33m:\u001b[0m\u001b[1;33m\u001b[0m\u001b[1;33m\u001b[0m\u001b[0m\n\u001b[0;32m   6429\u001b[0m         \u001b[0mkwargs\u001b[0m\u001b[1;33m[\u001b[0m\u001b[1;34m'filled'\u001b[0m\u001b[1;33m]\u001b[0m \u001b[1;33m=\u001b[0m \u001b[1;32mTrue\u001b[0m\u001b[1;33m\u001b[0m\u001b[1;33m\u001b[0m\u001b[0m\n\u001b[1;32m-> 6430\u001b[1;33m         \u001b[0mcontours\u001b[0m \u001b[1;33m=\u001b[0m \u001b[0mmcontour\u001b[0m\u001b[1;33m.\u001b[0m\u001b[0mQuadContourSet\u001b[0m\u001b[1;33m(\u001b[0m\u001b[0mself\u001b[0m\u001b[1;33m,\u001b[0m \u001b[1;33m*\u001b[0m\u001b[0margs\u001b[0m\u001b[1;33m,\u001b[0m \u001b[1;33m**\u001b[0m\u001b[0mkwargs\u001b[0m\u001b[1;33m)\u001b[0m\u001b[1;33m\u001b[0m\u001b[1;33m\u001b[0m\u001b[0m\n\u001b[0m\u001b[0;32m   6431\u001b[0m         \u001b[0mself\u001b[0m\u001b[1;33m.\u001b[0m\u001b[0mautoscale_view\u001b[0m\u001b[1;33m(\u001b[0m\u001b[1;33m)\u001b[0m\u001b[1;33m\u001b[0m\u001b[1;33m\u001b[0m\u001b[0m\n\u001b[0;32m   6432\u001b[0m         \u001b[1;32mreturn\u001b[0m \u001b[0mcontours\u001b[0m\u001b[1;33m\u001b[0m\u001b[1;33m\u001b[0m\u001b[0m\n",
      "\u001b[1;32m~\\Anaconda3\\lib\\site-packages\\matplotlib\\contour.py\u001b[0m in \u001b[0;36m__init__\u001b[1;34m(self, ax, levels, filled, linewidths, linestyles, alpha, origin, extent, cmap, colors, norm, vmin, vmax, extend, antialiased, *args, **kwargs)\u001b[0m\n\u001b[0;32m    853\u001b[0m         \u001b[0mself\u001b[0m\u001b[1;33m.\u001b[0m\u001b[0m_transform\u001b[0m \u001b[1;33m=\u001b[0m \u001b[0mkwargs\u001b[0m\u001b[1;33m.\u001b[0m\u001b[0mpop\u001b[0m\u001b[1;33m(\u001b[0m\u001b[1;34m'transform'\u001b[0m\u001b[1;33m,\u001b[0m \u001b[1;32mNone\u001b[0m\u001b[1;33m)\u001b[0m\u001b[1;33m\u001b[0m\u001b[1;33m\u001b[0m\u001b[0m\n\u001b[0;32m    854\u001b[0m \u001b[1;33m\u001b[0m\u001b[0m\n\u001b[1;32m--> 855\u001b[1;33m         \u001b[0mkwargs\u001b[0m \u001b[1;33m=\u001b[0m \u001b[0mself\u001b[0m\u001b[1;33m.\u001b[0m\u001b[0m_process_args\u001b[0m\u001b[1;33m(\u001b[0m\u001b[1;33m*\u001b[0m\u001b[0margs\u001b[0m\u001b[1;33m,\u001b[0m \u001b[1;33m**\u001b[0m\u001b[0mkwargs\u001b[0m\u001b[1;33m)\u001b[0m\u001b[1;33m\u001b[0m\u001b[1;33m\u001b[0m\u001b[0m\n\u001b[0m\u001b[0;32m    856\u001b[0m         \u001b[0mself\u001b[0m\u001b[1;33m.\u001b[0m\u001b[0m_process_levels\u001b[0m\u001b[1;33m(\u001b[0m\u001b[1;33m)\u001b[0m\u001b[1;33m\u001b[0m\u001b[1;33m\u001b[0m\u001b[0m\n\u001b[0;32m    857\u001b[0m \u001b[1;33m\u001b[0m\u001b[0m\n",
      "\u001b[1;32m~\\Anaconda3\\lib\\site-packages\\matplotlib\\contour.py\u001b[0m in \u001b[0;36m_process_args\u001b[1;34m(self, *args, **kwargs)\u001b[0m\n\u001b[0;32m   1454\u001b[0m                 \u001b[0mself\u001b[0m\u001b[1;33m.\u001b[0m\u001b[0m_corner_mask\u001b[0m \u001b[1;33m=\u001b[0m \u001b[0mmpl\u001b[0m\u001b[1;33m.\u001b[0m\u001b[0mrcParams\u001b[0m\u001b[1;33m[\u001b[0m\u001b[1;34m'contour.corner_mask'\u001b[0m\u001b[1;33m]\u001b[0m\u001b[1;33m\u001b[0m\u001b[1;33m\u001b[0m\u001b[0m\n\u001b[0;32m   1455\u001b[0m \u001b[1;33m\u001b[0m\u001b[0m\n\u001b[1;32m-> 1456\u001b[1;33m             \u001b[0mx\u001b[0m\u001b[1;33m,\u001b[0m \u001b[0my\u001b[0m\u001b[1;33m,\u001b[0m \u001b[0mz\u001b[0m \u001b[1;33m=\u001b[0m \u001b[0mself\u001b[0m\u001b[1;33m.\u001b[0m\u001b[0m_contour_args\u001b[0m\u001b[1;33m(\u001b[0m\u001b[0margs\u001b[0m\u001b[1;33m,\u001b[0m \u001b[0mkwargs\u001b[0m\u001b[1;33m)\u001b[0m\u001b[1;33m\u001b[0m\u001b[1;33m\u001b[0m\u001b[0m\n\u001b[0m\u001b[0;32m   1457\u001b[0m \u001b[1;33m\u001b[0m\u001b[0m\n\u001b[0;32m   1458\u001b[0m             \u001b[0m_mask\u001b[0m \u001b[1;33m=\u001b[0m \u001b[0mma\u001b[0m\u001b[1;33m.\u001b[0m\u001b[0mgetmask\u001b[0m\u001b[1;33m(\u001b[0m\u001b[0mz\u001b[0m\u001b[1;33m)\u001b[0m\u001b[1;33m\u001b[0m\u001b[1;33m\u001b[0m\u001b[0m\n",
      "\u001b[1;32m~\\Anaconda3\\lib\\site-packages\\matplotlib\\contour.py\u001b[0m in \u001b[0;36m_contour_args\u001b[1;34m(self, args, kwargs)\u001b[0m\n\u001b[0;32m   1512\u001b[0m             \u001b[0margs\u001b[0m \u001b[1;33m=\u001b[0m \u001b[0margs\u001b[0m\u001b[1;33m[\u001b[0m\u001b[1;36m1\u001b[0m\u001b[1;33m:\u001b[0m\u001b[1;33m]\u001b[0m\u001b[1;33m\u001b[0m\u001b[1;33m\u001b[0m\u001b[0m\n\u001b[0;32m   1513\u001b[0m         \u001b[1;32melif\u001b[0m \u001b[0mNargs\u001b[0m \u001b[1;33m<=\u001b[0m \u001b[1;36m4\u001b[0m\u001b[1;33m:\u001b[0m\u001b[1;33m\u001b[0m\u001b[1;33m\u001b[0m\u001b[0m\n\u001b[1;32m-> 1514\u001b[1;33m             \u001b[0mx\u001b[0m\u001b[1;33m,\u001b[0m \u001b[0my\u001b[0m\u001b[1;33m,\u001b[0m \u001b[0mz\u001b[0m \u001b[1;33m=\u001b[0m \u001b[0mself\u001b[0m\u001b[1;33m.\u001b[0m\u001b[0m_check_xyz\u001b[0m\u001b[1;33m(\u001b[0m\u001b[0margs\u001b[0m\u001b[1;33m[\u001b[0m\u001b[1;33m:\u001b[0m\u001b[1;36m3\u001b[0m\u001b[1;33m]\u001b[0m\u001b[1;33m,\u001b[0m \u001b[0mkwargs\u001b[0m\u001b[1;33m)\u001b[0m\u001b[1;33m\u001b[0m\u001b[1;33m\u001b[0m\u001b[0m\n\u001b[0m\u001b[0;32m   1515\u001b[0m             \u001b[0margs\u001b[0m \u001b[1;33m=\u001b[0m \u001b[0margs\u001b[0m\u001b[1;33m[\u001b[0m\u001b[1;36m3\u001b[0m\u001b[1;33m:\u001b[0m\u001b[1;33m]\u001b[0m\u001b[1;33m\u001b[0m\u001b[1;33m\u001b[0m\u001b[0m\n\u001b[0;32m   1516\u001b[0m         \u001b[1;32melse\u001b[0m\u001b[1;33m:\u001b[0m\u001b[1;33m\u001b[0m\u001b[1;33m\u001b[0m\u001b[0m\n",
      "\u001b[1;32m~\\Anaconda3\\lib\\site-packages\\matplotlib\\contour.py\u001b[0m in \u001b[0;36m_check_xyz\u001b[1;34m(self, args, kwargs)\u001b[0m\n\u001b[0;32m   1573\u001b[0m             \u001b[1;32mif\u001b[0m \u001b[0mx\u001b[0m\u001b[1;33m.\u001b[0m\u001b[0mshape\u001b[0m \u001b[1;33m!=\u001b[0m \u001b[0mz\u001b[0m\u001b[1;33m.\u001b[0m\u001b[0mshape\u001b[0m\u001b[1;33m:\u001b[0m\u001b[1;33m\u001b[0m\u001b[1;33m\u001b[0m\u001b[0m\n\u001b[0;32m   1574\u001b[0m                 raise TypeError(\"Shape of x does not match that of z: found \"\n\u001b[1;32m-> 1575\u001b[1;33m                                 \"{0} instead of {1}.\".format(x.shape, z.shape))\n\u001b[0m\u001b[0;32m   1576\u001b[0m \u001b[1;33m\u001b[0m\u001b[0m\n\u001b[0;32m   1577\u001b[0m             \u001b[1;32mif\u001b[0m \u001b[0my\u001b[0m\u001b[1;33m.\u001b[0m\u001b[0mshape\u001b[0m \u001b[1;33m!=\u001b[0m \u001b[0mz\u001b[0m\u001b[1;33m.\u001b[0m\u001b[0mshape\u001b[0m\u001b[1;33m:\u001b[0m\u001b[1;33m\u001b[0m\u001b[1;33m\u001b[0m\u001b[0m\n",
      "\u001b[1;31mTypeError\u001b[0m: Shape of x does not match that of z: found (101, 101) instead of (200, 100)."
     ]
    },
    {
     "data": {
      "image/png": "[encoded data removed]",
      "text/plain": [
       "<Figure size 432x288 with 1 Axes>"
      ]
     },
     "metadata": {
      "needs_background": "light"
     },
     "output_type": "display_data"
    }
   ],
   "source": [
    "fig, ax = plt.subplots()\n",
    "x_nodes = np.linspace(0, 1, Nx)\n",
    "y_nodes = np.linspace(0, 1, Ny)\n",
    "x_grid, y_grid = np.meshgrid(x_nodes, y_nodes)\n",
    "cs = ax.contourf(x_grid, y_grid, solution[0][0][8], cmap=cm.pink)\n",
    "cbar = fig.colorbar(cs)\n",
    "fig.set_figwidth(10)    #  ширина и\n",
    "fig.set_figheight(8)    #  высота \"Figure\"\n",
    "plt.show()"
   ]
  },
  {
   "cell_type": "code",
   "execution_count": 38,
   "metadata": {},
   "outputs": [
    {
     "data": {
      "image/png": "[encoded data removed]",
      "text/plain": [
       "<Figure size 720x576 with 2 Axes>"
      ]
     },
     "metadata": {
      "needs_background": "light"
     },
     "output_type": "display_data"
    }
   ],
   "source": [
    "fig, ax = plt.subplots()\n",
    "x_nodes = np.linspace(0, 1, Nx)\n",
    "y_nodes = np.linspace(0, 1, Ny)\n",
    "x_grid, y_grid = np.meshgrid(x_nodes, y_nodes)\n",
    "cs = ax.contourf(x_grid, y_grid, solution[0][1][3], cmap=cm.pink)\n",
    "cbar = fig.colorbar(cs)\n",
    "fig.set_figwidth(10)    #  ширина и\n",
    "fig.set_figheight(8)    #  высота \"Figure\"\n",
    "plt.show()"
   ]
  },
  {
   "cell_type": "code",
   "execution_count": 164,
   "metadata": {},
   "outputs": [
    {
     "data": {
      "text/plain": [
       "10201"
      ]
     },
     "execution_count": 164,
     "metadata": {},
     "output_type": "execute_result"
    }
   ],
   "source": [
    "101*101"
   ]
  },
  {
   "cell_type": "code",
   "execution_count": 238,
   "metadata": {},
   "outputs": [
    {
     "data": {
      "text/plain": [
       "array([-1000.00070551, -1000.00082699, -1000.00083216, -1000.00051662,\n",
       "       -1000.00046783, -1000.00015495,  -999.99975857,  -999.99968009,\n",
       "        -999.99943489,  -999.99944446,  -999.99948861,  -999.99947047,\n",
       "        -999.99958659,  -999.99945265,  -999.99961485,  -999.99941838,\n",
       "        -999.99943977,  -999.99939029,  -999.99974056,  -999.99969947,\n",
       "        -999.99989257, -1000.00007736, -1000.00017729, -1000.00021357,\n",
       "       -1000.00006994, -1000.00049934, -1000.00026404, -1000.00043036,\n",
       "       -1000.00021289, -1000.00005774, -1000.00025871, -1000.00025729,\n",
       "       -1000.00008784, -1000.00030917, -1000.00037421, -1000.00013975,\n",
       "       -1000.00021615, -1000.00005415, -1000.00007471, -1000.0002115 ])"
      ]
     },
     "execution_count": 238,
     "metadata": {},
     "output_type": "execute_result"
    }
   ],
   "source": [
    "sigy[50]"
   ]
  },
  {
   "cell_type": "code",
   "execution_count": null,
   "metadata": {},
   "outputs": [],
   "source": []
  },
  {
   "cell_type": "code",
   "execution_count": 206,
   "metadata": {},
   "outputs": [],
   "source": [
    "h=0\n",
    "err = 0\n",
    "for i in uy:\n",
    "    err += np.sum((i - -0.91/1.8/10*h)**2)\n",
    "    h+=0.02"
   ]
  },
  {
   "cell_type": "code",
   "execution_count": 209,
   "metadata": {},
   "outputs": [
    {
     "data": {
      "text/plain": [
       "0.00014789237414396993"
      ]
     },
     "execution_count": 209,
     "metadata": {},
     "output_type": "execute_result"
    }
   ],
   "source": [
    "err = np.sqrt(err)/np.sum(uy**2)\n",
    "err"
   ]
  },
  {
   "cell_type": "code",
   "execution_count": 137,
   "metadata": {},
   "outputs": [],
   "source": [
    "f = 0,0\n",
    "s = 1,1\n",
    "Nx = 41\n",
    "Ny = 41\n",
    "\n"
   ]
  },
  {
   "cell_type": "code",
   "execution_count": 158,
   "metadata": {},
   "outputs": [
    {
     "data": {
      "text/plain": [
       "101"
      ]
     },
     "execution_count": 158,
     "metadata": {},
     "output_type": "execute_result"
    }
   ],
   "source": [
    "len(x_grid[0])"
   ]
  },
  {
   "cell_type": "code",
   "execution_count": 159,
   "metadata": {},
   "outputs": [
    {
     "data": {
      "text/plain": [
       "0.050555555555555555"
      ]
     },
     "execution_count": 159,
     "metadata": {},
     "output_type": "execute_result"
    }
   ],
   "source": [
    "0.91/1.8/10"
   ]
  },
  {
   "cell_type": "code",
   "execution_count": null,
   "metadata": {},
   "outputs": [],
   "source": []
  },
  {
   "cell_type": "code",
   "execution_count": 160,
   "metadata": {},
   "outputs": [
    {
     "data": {
      "text/plain": [
       "200"
      ]
     },
     "execution_count": 160,
     "metadata": {},
     "output_type": "execute_result"
    }
   ],
   "source": [
    "len(sigy)"
   ]
  },
  {
   "cell_type": "code",
   "execution_count": 59,
   "metadata": {},
   "outputs": [],
   "source": [
    "f, u, ux, uy, ex, ey, exy, sigx, sigy, sigxy, pointsx, pointsy = solution[0][1]"
   ]
  },
  {
   "cell_type": "code",
   "execution_count": 84,
   "metadata": {},
   "outputs": [
    {
     "data": {
      "text/plain": [
       "1.422687224738782e-06"
      ]
     },
     "execution_count": 84,
     "metadata": {},
     "output_type": "execute_result"
    }
   ],
   "source": [
    "np.sqrt(np.sum((sigx - -45)**2))/sigx.size"
   ]
  },
  {
   "cell_type": "code",
   "execution_count": 85,
   "metadata": {},
   "outputs": [
    {
     "data": {
      "text/plain": [
       "1.4023122227976208e-06"
      ]
     },
     "execution_count": 85,
     "metadata": {},
     "output_type": "execute_result"
    }
   ],
   "source": [
    "np.sqrt(np.sum((sigy - -150)**2))/sigy.size"
   ]
  },
  {
   "cell_type": "code",
   "execution_count": 63,
   "metadata": {},
   "outputs": [
    {
     "data": {
      "text/plain": [
       "9.481689589973898e-07"
      ]
     },
     "execution_count": 63,
     "metadata": {},
     "output_type": "execute_result"
    }
   ],
   "source": [
    "np.sqrt(np.sum((sigxy)**2))/sigxy.size"
   ]
  },
  {
   "cell_type": "code",
   "execution_count": 73,
   "metadata": {},
   "outputs": [
    {
     "data": {
      "text/plain": [
       "7.761458152068216e-12"
      ]
     },
     "execution_count": 73,
     "metadata": {},
     "output_type": "execute_result"
    }
   ],
   "source": [
    "np.sqrt(np.sum((ex)**2))/ex.size"
   ]
  },
  {
   "cell_type": "code",
   "execution_count": 74,
   "metadata": {},
   "outputs": [],
   "source": [
    "kl = (-150*0.91/2/10**5)"
   ]
  },
  {
   "cell_type": "code",
   "execution_count": 86,
   "metadata": {},
   "outputs": [
    {
     "data": {
      "text/plain": [
       "7.676637089004243e-12"
      ]
     },
     "execution_count": 86,
     "metadata": {},
     "output_type": "execute_result"
    }
   ],
   "source": [
    "np.sqrt(np.sum((ey - -150*0.91/2/10**5)**2))/ey.size"
   ]
  },
  {
   "cell_type": "code",
   "execution_count": 68,
   "metadata": {},
   "outputs": [
    {
     "data": {
      "text/plain": [
       "1.2326196466966068e-11"
      ]
     },
     "execution_count": 68,
     "metadata": {},
     "output_type": "execute_result"
    }
   ],
   "source": [
    "np.sqrt(np.sum((exy)**2))/exy.size"
   ]
  },
  {
   "cell_type": "code",
   "execution_count": 69,
   "metadata": {},
   "outputs": [
    {
     "data": {
      "text/plain": [
       "5.957316829108375e-13"
      ]
     },
     "execution_count": 69,
     "metadata": {},
     "output_type": "execute_result"
    }
   ],
   "source": [
    "np.sqrt(np.sum((ux)**2))/ex.size"
   ]
  },
  {
   "cell_type": "code",
   "execution_count": 83,
   "metadata": {},
   "outputs": [
    {
     "name": "stdout",
     "output_type": "stream",
     "text": [
      "3.375630016203827e-07\n"
     ]
    }
   ],
   "source": [
    "err = 0\n",
    "for i,u in enumerate(uy):\n",
    "    err += np.sum((u - kl*i*0.01)**2)\n",
    "print(np.sqrt(err)/np.sqrt(np.sum(uy**2)))"
   ]
  },
  {
   "cell_type": "code",
   "execution_count": 210,
   "metadata": {},
   "outputs": [
    {
     "data": {
      "text/plain": [
       "20000"
      ]
     },
     "execution_count": 210,
     "metadata": {},
     "output_type": "execute_result"
    }
   ],
   "source": [
    "sigy.size"
   ]
  },
  {
   "cell_type": "code",
   "execution_count": 147,
   "metadata": {},
   "outputs": [
    {
     "data": {
      "text/plain": [
       "array([[-0.05055551, -0.05055548, -0.05055548, ..., -0.05055558,\n",
       "        -0.05055556, -0.05055556],\n",
       "       [-0.05055548, -0.05055548, -0.05055551, ..., -0.05055556,\n",
       "        -0.05055556, -0.05055557],\n",
       "       [-0.05055546, -0.05055548, -0.05055554, ..., -0.05055555,\n",
       "        -0.05055554, -0.05055552],\n",
       "       ...,\n",
       "       [-0.05055557, -0.05055555, -0.05055554, ..., -0.05055557,\n",
       "        -0.05055562, -0.05055565],\n",
       "       [-0.05055556, -0.05055553, -0.05055555, ..., -0.05055559,\n",
       "        -0.0505556 , -0.05055565],\n",
       "       [-0.05055553, -0.05055555, -0.0505555 , ..., -0.0505556 ,\n",
       "        -0.05055565, -0.05055568]])"
      ]
     },
     "execution_count": 147,
     "metadata": {},
     "output_type": "execute_result"
    }
   ],
   "source": [
    "ey"
   ]
  },
  {
   "cell_type": "code",
   "execution_count": 137,
   "metadata": {},
   "outputs": [],
   "source": [
    "f = 0,0\n",
    "s = 1,1\n",
    "Nx = 41\n",
    "Ny = 41\n",
    "\n"
   ]
  },
  {
   "cell_type": "code",
   "execution_count": 249,
   "metadata": {},
   "outputs": [
    {
     "data": {
      "image/png": "[encoded data removed]",
      "text/plain": [
       "<Figure size 720x576 with 1 Axes>"
      ]
     },
     "metadata": {
      "needs_background": "light"
     },
     "output_type": "display_data"
    }
   ],
   "source": [
    "fig, ax = plt.subplots()\n",
    "x_nodes = np.linspace(0, 1, Nx)\n",
    "y_nodes = np.linspace(0, 1, Ny)\n",
    "x_grid, y_grid = np.meshgrid(x_nodes, y_nodes)\n",
    "for i in [0.1, 0.3, 0.5, 0.7, 0.9]:\n",
    "    d = 0.025\n",
    "    k = round(i/d)\n",
    "    plt.plot(x_grid[k,:], uy[k,:])\n",
    "fig.set_figwidth(10)    #  ширина и\n",
    "fig.set_figheight(8)    #  высота \"Figure\"\n",
    "plt.show()"
   ]
  }
 ],
 "metadata": {
  "kernelspec": {
   "display_name": "Python 3",
   "language": "python",
   "name": "python3"
  },
  "language_info": {
   "codemirror_mode": {
    "name": "ipython",
    "version": 3
   },
   "file_extension": ".py",
   "mimetype": "text/x-python",
   "name": "python",
   "nbconvert_exporter": "python",
   "pygments_lexer": "ipython3",
   "version": "3.7.4"
  }
 },
 "nbformat": 4,
 "nbformat_minor": 2
}
