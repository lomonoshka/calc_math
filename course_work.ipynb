{
 "cells": [
  {
   "cell_type": "code",
   "execution_count": 36,
   "metadata": {},
   "outputs": [],
   "source": [
    "import numpy as np\n",
    "import matplotlib.pyplot as plt\n",
    "from functools import reduce"
   ]
  },
  {
   "cell_type": "code",
   "execution_count": 55,
   "metadata": {},
   "outputs": [
    {
     "data": {
      "text/plain": [
       "[<matplotlib.lines.Line2D at 0x7f0de8050290>,\n",
       " <matplotlib.lines.Line2D at 0x7f0de83705d0>,\n",
       " <matplotlib.lines.Line2D at 0x7f0de7e74bd0>]"
      ]
     },
     "execution_count": 55,
     "metadata": {},
     "output_type": "execute_result"
    },
    {
     "data": {
      "image/png": "[encoded data removed]",
      "text/plain": [
       "<Figure size 432x288 with 1 Axes>"
      ]
     },
     "metadata": {
      "needs_background": "light"
     },
     "output_type": "display_data"
    }
   ],
   "source": [
    "f = 0,0\n",
    "s = 2,2\n",
    "xnum_nodes = 3\n",
    "ynum_nodes = 3\n",
    "x_nodes = np.linspace(f[0], s[0], xnum_nodes)\n",
    "y_nodes = np.linspace(f[1], s[1], ynum_nodes)\n",
    "x_grid, y_grid = np.meshgrid(x_nodes, y_nodes)\n",
    "plt.plot(x_grid, y_grid, 'ro')"
   ]
  },
  {
   "cell_type": "code",
   "execution_count": 57,
   "metadata": {},
   "outputs": [],
   "source": [
    "x_nodes = [i%xnum_nodes/(xnum_nodes-1)*(s[0] - f[0]) for i in range(xnum_nodes*ynum_nodes)]\n",
    "y_nodes = [i//ynum_nodes/(ynum_nodes-1)*(s[0] - f[0]) for i in range(xnum_nodes*ynum_nodes)]\n",
    "elements = []\n",
    "for j in range(ynum_nodes-1):\n",
    "    for i in range(xnum_nodes-1):\n",
    "        elements.append(i+j*xnum_nodes)\n",
    "        elements.append(i+1)\n",
    "        elements.append(i+xnum_nodes+1+j*xnum_nodes)\n",
    "        elements.append(i+j*xnum_nodes)\n",
    "        elements.append(i+1+xnum_nodes+j*xnum_nodes)\n",
    "        elements.append(i+xnum_nodes+j*xnum_nodes)\n",
    "\n",
    "elements = np.asarray(elements)\n",
    "elements = elements.reshape(-1,3)\n",
    "S = (s[0] - f[0]) / (xnum_nodes - 1) * (s[1] - f[1]) / (ynum_nodes - 1) * 0.5"
   ]
  },
  {
   "cell_type": "code",
   "execution_count": 61,
   "metadata": {},
   "outputs": [
    {
     "name": "stdout",
     "output_type": "stream",
     "text": [
      "[[0 1 4]\n",
      " [0 4 3]\n",
      " [1 2 5]\n",
      " [1 5 4]\n",
      " [3 1 7]\n",
      " [3 7 6]\n",
      " [4 2 8]\n",
      " [4 8 7]] [0.0, 1.0, 2.0, 0.0, 1.0, 2.0, 0.0, 1.0, 2.0] [0.0, 0.0, 0.0, 1.0, 1.0, 1.0, 2.0, 2.0, 2.0]\n"
     ]
    }
   ],
   "source": [
    "print(elements, x_nodes, y_nodes)"
   ]
  },
  {
   "cell_type": "code",
   "execution_count": 62,
   "metadata": {},
   "outputs": [],
   "source": [
    "E = 2.1 * 10e4\n",
    "nu = 0.5\n",
    "D = np.asarray([[1, nu, 0], [nu, 1, 0], [0, 0, (1-nu)/2]])"
   ]
  },
  {
   "cell_type": "code",
   "execution_count": 63,
   "metadata": {},
   "outputs": [
    {
     "name": "stdout",
     "output_type": "stream",
     "text": [
      "[[-1.  0.  1.  0.  0.  0.]\n",
      " [ 0.  0.  0. -1.  0.  1.]\n",
      " [ 0. -1. -1.  1.  1.  0.]]\n",
      "[[ 0.  0.  1.  0. -1.  0.]\n",
      " [ 0. -1.  0.  0.  0.  1.]\n",
      " [-1.  0.  0.  1.  1. -1.]]\n",
      "[[-1.  0.  1.  0.  0.  0.]\n",
      " [ 0.  0.  0. -1.  0.  1.]\n",
      " [ 0. -1. -1.  1.  1.  0.]]\n",
      "[[ 0.  0.  1.  0. -1.  0.]\n",
      " [ 0. -1.  0.  0.  0.  1.]\n",
      " [-1.  0.  0.  1.  1. -1.]]\n",
      "[[-2.  0.  1.  0.  1.  0.]\n",
      " [ 0.  0.  0. -1.  0.  1.]\n",
      " [ 0. -2. -1.  1.  1.  1.]]\n",
      "[[ 0.  0.  1.  0. -1.  0.]\n",
      " [ 0. -1.  0.  0.  0.  1.]\n",
      " [-1.  0.  0.  1.  1. -1.]]\n",
      "[[-2.  0.  1.  0.  1.  0.]\n",
      " [ 0.  0.  0. -1.  0.  1.]\n",
      " [ 0. -2. -1.  1.  1.  1.]]\n",
      "[[ 0.  0.  1.  0. -1.  0.]\n",
      " [ 0. -1.  0.  0.  0.  1.]\n",
      " [-1.  0.  0.  1.  1. -1.]]\n"
     ]
    }
   ],
   "source": [
    "for el in elements:\n",
    "    b = [y_nodes[el[(1+i)%3]] - y_nodes[el[(2+i)%3]] for i in range(3)]\n",
    "    c = [x_nodes[el[(2+i)%3]] - x_nodes[el[(1+i)%3]] for i in range(3)]\n",
    "    B = np.asarray([[b[0], 0, b[1], 0 ,b[2], 0],\n",
    "         [0, c[0], 0, c[1], 0, c[2]],\n",
    "         [c[0], b[0], c[1], b[1], c[2], b[2]]])/(2*S)\n",
    "    print(B)\n",
    "    "
   ]
  }
 ],
 "metadata": {
  "kernelspec": {
   "display_name": "Python 3",
   "language": "python",
   "name": "python3"
  },
  "language_info": {
   "codemirror_mode": {
    "name": "ipython",
    "version": 3
   },
   "file_extension": ".py",
   "mimetype": "text/x-python",
   "name": "python",
   "nbconvert_exporter": "python",
   "pygments_lexer": "ipython3",
   "version": "3.7.4"
  }
 },
 "nbformat": 4,
 "nbformat_minor": 2
}
